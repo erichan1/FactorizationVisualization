{
 "cells": [
  {
   "cell_type": "code",
   "execution_count": 1,
   "metadata": {},
   "outputs": [],
   "source": [
    "#Import modules\n",
    "import numpy as np\n",
    "from surprise import SVD\n",
    "from surprise.model_selection import cross_validate\n",
    "from surprise import Dataset\n",
    "import pandas as pd\n",
    "from surprise import Reader\n",
    "from surprise.model_selection.split import PredefinedKFold\n",
    "from surprise import accuracy\n",
    "from surprise.prediction_algorithms.knns import KNNBasic\n",
    "import numpy as np\n",
    "import matplotlib.pyplot as plt"
   ]
  },
  {
   "cell_type": "code",
   "execution_count": 2,
   "metadata": {},
   "outputs": [],
   "source": [
    "#Load Data\n",
    "folds_files = [('train.txt','test.txt')]\n",
    "reader = Reader(line_format='user item rating', sep='\\t', skip_lines=None, rating_scale=(1, 5))\n",
    "data = Dataset.load_from_folds(folds_files,reader=reader)\n",
    "pkf = PredefinedKFold()\n",
    "trainset, testset = next(pkf.split(data))"
   ]
  },
  {
   "cell_type": "code",
   "execution_count": 7,
   "metadata": {
    "scrolled": true
   },
   "outputs": [
    {
     "name": "stdout",
     "output_type": "stream",
     "text": [
      "RMSE: 0.9143\n",
      "RMSE: 0.9458\n"
     ]
    },
    {
     "data": {
      "text/plain": [
       "0.9458012314497669"
      ]
     },
     "execution_count": 7,
     "metadata": {},
     "output_type": "execute_result"
    }
   ],
   "source": [
    "#Set params\n",
    "k=20\n",
    "epochs = 30\n",
    "lambdas = 0.1\n",
    "eta = 0.03\n",
    "#Run biased model\n",
    "algo = SVD(n_factors=k,n_epochs=epochs,reg_all=0.1,lr_all=eta)\n",
    "algo.fit(trainset)\n",
    "predictions = algo.test(testset)\n",
    "accuracy.rmse(predictions,verbose=True)\n",
    "\n",
    "#Set params\n",
    "k=20\n",
    "epochs = 30\n",
    "lambdas = 0.1\n",
    "#Run unbiased model\n",
    "algo = SVD(n_factors=k,n_epochs=epochs,biased=False,reg_all=0.1,lr_all=eta)\n",
    "algo.fit(trainset)\n",
    "predictions = algo.test(testset)\n",
    "accuracy.rmse(predictions,verbose=True)\n",
    "\n",
    "algo.fit()\n"
   ]
  },
  {
   "cell_type": "code",
   "execution_count": 2,
   "metadata": {},
   "outputs": [],
   "source": [
    "#Now fit the model on the whole data set\n",
    "#Load Data\n",
    "reader = Reader(line_format='user item rating', sep='\\t', skip_lines=None, rating_scale=(1, 5))\n",
    "data = Dataset.load_from_file('data.txt',reader=reader)\n",
    "trainset = data.build_full_trainset()\n",
    "#Set params\n",
    "k=20\n",
    "epochs = 30\n",
    "lambdas = 0.1\n",
    "eta = 0.03\n",
    "#fit movie lens data set\n",
    "algo = SVD(n_factors=k,n_epochs=epochs,biased=False,reg_all=0.1,lr_all=eta)\n",
    "algo.fit(trainset)\n",
    "#Get V and U\n",
    "V_surprise = algo.qi\n",
    "U_surprise = algo.pu"
   ]
  },
  {
   "cell_type": "code",
   "execution_count": 19,
   "metadata": {},
   "outputs": [],
   "source": [
    "#Earlier script that returns IDs for most popular movies and best movies\n",
    "import numpy as np\n",
    "import matplotlib.pyplot as plt\n",
    "\n",
    "#Problem 1\n",
    "data = np.loadtxt('data.txt',delimiter='\\t')\n",
    "MovieNames = np.genfromtxt('movies.txt',delimiter='\\t',dtype=None,encoding='ISO-8859-1',usecols=(1,))\n",
    "\n",
    "User_ID = data[:,0]\n",
    "Movie_ID = data[:,1]\n",
    "Rating = data[:,2]\n",
    "\n",
    "labels, counts = np.unique(Rating, return_counts=True)\n",
    "\n",
    "#Problem 2\n",
    "Movie_ID_number, counts_Movie_ID = np.unique(Movie_ID, return_counts=True)\n",
    "counts_Movie_ID, Movie_ID_number = zip(*sorted(zip(counts_Movie_ID,Movie_ID_number)))\n",
    "Most_popular_movie_ID = Movie_ID_number[len(Movie_ID_number)-11:len(Movie_ID_number)-1]\n",
    "Most_popular_movie_counts = counts_Movie_ID[len(counts_Movie_ID)-11:len(counts_Movie_ID)-1]\n",
    "Most_popular_movie_name = []\n",
    "for ID in Most_popular_movie_ID:\n",
    "    Most_popular_movie_name.append(MovieNames[int(ID)-1])\n",
    "\n",
    "#Problem 3\n",
    "Average_rating = []\n",
    "for ID in Movie_ID_number:\n",
    "    summing = 0\n",
    "    division = 0\n",
    "    for i in range(len(Movie_ID)):\n",
    "        if Movie_ID[i] == ID:\n",
    "            summing += Rating[i]\n",
    "            division += 1\n",
    "    Average_rating.append(summing/division)\n",
    "        \n",
    "Average_rating, Movie_ID_number = zip(*sorted(zip(Average_rating,Movie_ID_number)))\n",
    "\n",
    "Best_movie_ID = Movie_ID_number[len(Movie_ID_number)-11:len(Movie_ID_number)-1]\n",
    "Best_movie_rating = Average_rating[len(Average_rating)-11:len(Average_rating)-1]\n",
    "Best_movie_name = []\n",
    "for ID in Best_movie_ID:\n",
    "    Best_movie_name.append(MovieNames[int(ID)-1])\n",
    "\n",
    "Average_rating_of_popular_movies = []\n",
    "\n",
    "for ID in Most_popular_movie_ID:\n",
    "    for index in range(len(Movie_ID_number)):\n",
    "        if Movie_ID_number[index] == ID:\n",
    "           Average_rating_of_popular_movies.append(Average_rating[index])"
   ]
  },
  {
   "cell_type": "code",
   "execution_count": 7,
   "metadata": {},
   "outputs": [],
   "source": [
    "#Plot random 10 movies\n",
    "Movie_ID = np.array([127,187,64,172,181,50,59,60,61,89]) #array of 10 random movies IDs\n",
    "#Names of 10 random movies\n",
    "Movie_name = ['Godfather Part I','Godfather: Part II','Shawshank Redemption','Empire Strikes Back','Return of the Jedi','Star Wars','Three Colors: Red','Three Colors:Blue','Three Colors: White','Blade Runner']"
   ]
  },
  {
   "cell_type": "code",
   "execution_count": 18,
   "metadata": {},
   "outputs": [
    {
     "ename": "NameError",
     "evalue": "name 'Movie_ID' is not defined",
     "output_type": "error",
     "traceback": [
      "\u001b[0;31m---------------------------------------------------------------------------\u001b[0m",
      "\u001b[0;31mNameError\u001b[0m                                 Traceback (most recent call last)",
      "\u001b[0;32m<ipython-input-18-67f280776800>\u001b[0m in \u001b[0;36m<module>\u001b[0;34m\u001b[0m\n\u001b[1;32m     30\u001b[0m \u001b[0;34m\u001b[0m\u001b[0m\n\u001b[1;32m     31\u001b[0m \u001b[0;31m#Get components for ten random movies\u001b[0m\u001b[0;34m\u001b[0m\u001b[0;34m\u001b[0m\u001b[0;34m\u001b[0m\u001b[0m\n\u001b[0;32m---> 32\u001b[0;31m \u001b[0mV1\u001b[0m\u001b[0;34m,\u001b[0m\u001b[0mV2\u001b[0m \u001b[0;34m=\u001b[0m \u001b[0mproject_movies_2D\u001b[0m\u001b[0;34m(\u001b[0m\u001b[0mV_surprise\u001b[0m\u001b[0;34m,\u001b[0m \u001b[0mMovie_ID\u001b[0m\u001b[0;34m)\u001b[0m\u001b[0;34m\u001b[0m\u001b[0;34m\u001b[0m\u001b[0m\n\u001b[0m\u001b[1;32m     33\u001b[0m \u001b[0;31m#Plot ten random movies\u001b[0m\u001b[0;34m\u001b[0m\u001b[0;34m\u001b[0m\u001b[0;34m\u001b[0m\u001b[0m\n\u001b[1;32m     34\u001b[0m \u001b[0mplt\u001b[0m\u001b[0;34m.\u001b[0m\u001b[0mfigure\u001b[0m\u001b[0;34m(\u001b[0m\u001b[0;36m1\u001b[0m\u001b[0;34m)\u001b[0m\u001b[0;34m\u001b[0m\u001b[0;34m\u001b[0m\u001b[0m\n",
      "\u001b[0;31mNameError\u001b[0m: name 'Movie_ID' is not defined"
     ]
    }
   ],
   "source": [
    "\n",
    "def project_movies_2D(V, movie_IDs):\n",
    "    #Function that projects V to 2D space and returns array of 2 components only for a list of movies IDs\n",
    "    V_T = np.transpose(V)\n",
    "    A_v, sigma_v, B_v = np.linalg.svd(V_T)\n",
    "\n",
    "    # 2D projection of U and V\n",
    "    # U_proj = np.matmul(A_u[:,0:2], U)\n",
    "    V_proj = np.matmul(np.transpose(A_v[:, 0:2]), V_T)\n",
    "\n",
    "    # take only the columns corresponding to movie ids. \n",
    "    # movie ids are 1 indexed, so subtract by 1. \n",
    "    movie_IDs -= 1\n",
    "    V_proj_specific = V_proj[:, movie_IDs]\n",
    "\n",
    "    return (V_proj_specific[0], V_proj_specific[1])\n",
    "\n",
    "def project_movies_2D_all(V):\n",
    "    #Function that projects V to 2D space and returns the whole arrays of 2 components\n",
    "    V_T = np.transpose(V)\n",
    "    A_v, sigma_v, B_v = np.linalg.svd(V_T)\n",
    "\n",
    "    # 2D projection of U and V\n",
    "    # U_proj = np.matmul(A_u[:,0:2], U)\n",
    "    V_proj = np.matmul(np.transpose(A_v[:, 0:2]), V_T)\n",
    "\n",
    "    return (V_proj[0], V_proj[1])\n",
    "\n",
    "V1_all,V2_all = project_movies_2D_all(V_surprise)\n",
    "\n",
    "#Get components for ten random movies \n",
    "V1,V2 = project_movies_2D(V_surprise, Movie_ID)\n",
    "#Plot ten random movies\n",
    "plt.figure(1)\n",
    "for i in range(len(V1)):\n",
    "    plt.plot(V1[i],V2[i],'o',label=Movie_name[i])\n",
    "plt.xlabel('component 1')\n",
    "plt.ylabel('component 2')\n",
    "plt.xlim(min(V1_all),max(V1_all))\n",
    "plt.ylim(min(V2_all),max(V2_all))\n",
    "plt.title('Ten random movies')\n",
    "plt.legend()\n",
    "\n",
    "#Ten most popular movies\n",
    "Most_popular_movie_ID_ints = []\n",
    "for i in Most_popular_movie_ID:\n",
    "    Most_popular_movie_ID_ints.append(int(i))\n",
    "#Get components for ten most popular movies\n",
    "V1,V2 = project_movies_2D(V_surprise,np.array(Most_popular_movie_ID_ints))\n",
    "#Plot 10 most popular movies\n",
    "plt.figure(2)\n",
    "for i in range(len(V1)):\n",
    "    plt.plot(V1[i],V2[i],'o',label=Most_popular_movie_name[i])\n",
    "plt.xlabel('component 1')\n",
    "plt.ylabel('component 2')\n",
    "plt.xlim(min(V1_all),max(V1_all))\n",
    "plt.ylim(min(V2_all),max(V2_all))\n",
    "plt.title('Ten most popular movies')\n",
    "plt.legend()\n",
    "\n",
    "#Ten best movies\n",
    "Best_movie_ID_ints = []\n",
    "for i in Best_movie_ID:\n",
    "    Best_movie_ID_ints.append(int(i))\n",
    "#Get components for 10 best movies\n",
    "V1,V2 = project_movies_2D(V_surprise,np.array(Best_movie_ID_ints))\n",
    "#Plot 10 best movies\n",
    "plt.figure(3)\n",
    "for i in range(len(V1)):\n",
    "    plt.plot(V1[i],V2[i],'o',label=Best_movie_name[i])\n",
    "plt.xlabel('component 1')\n",
    "plt.ylabel('component 2')\n",
    "plt.xlim(min(V1_all),max(V1_all))\n",
    "plt.ylim(min(V2_all),max(V2_all))\n",
    "plt.title('Ten best movies')\n",
    "plt.legend()\n",
    "\n",
    "\n",
    "plt.show()"
   ]
  },
  {
   "cell_type": "code",
   "execution_count": 17,
   "metadata": {},
   "outputs": [
    {
     "data": {
      "image/png": "[encoded data removed]",
      "text/plain": [
       "<Figure size 432x288 with 1 Axes>"
      ]
     },
     "metadata": {
      "needs_background": "light"
     },
     "output_type": "display_data"
    },
    {
     "data": {
      "image/png": "[encoded data removed]",
      "text/plain": [
       "<Figure size 432x288 with 1 Axes>"
      ]
     },
     "metadata": {
      "needs_background": "light"
     },
     "output_type": "display_data"
    },
    {
     "data": {
      "image/png": "[encoded data removed]",
      "text/plain": [
       "<Figure size 432x288 with 1 Axes>"
      ]
     },
     "metadata": {
      "needs_background": "light"
     },
     "output_type": "display_data"
    }
   ],
   "source": [
    "#IDs and names of 10 random movies from Animation, Sci-Fi and Romance genres\n",
    "Anime_ID = np.array([1,71,95,99,101,102,103,2,114,169])\n",
    "Anime_names = ['Toy Story','Lion King','Aladdin','Snow White','Heavy Metal','Aristocats','All Dogs Go to Heaven 2','Wallace and Gromit','Wrong Trouser','Grand Day Out, A']\n",
    "Scifi_ID = np.array([7,38,39,50,62,82,84,89,96,101])\n",
    "Scifi_names = ['Twelve Monkeys','The Net','Strange Days','Star Wars','Stargate','Jurassic Park','Robert A Heinleins The Puppet Masters','Blade Runner','Terminator 2','Heavy Metal']\n",
    "Romance_ID = np.array([14,16,20,33,36,49,50,51,55,66])\n",
    "Romance_names = ['Postino, II','French Twist','Angels and Insects','Desperado','Mad Love','I.Q.','Star Wars','Legends of the Fall','Professional, The','While You Were Sleeping']\n",
    "\n",
    "#Plot Animation movies\n",
    "V1,V2 = project_movies_2D(V_surprise, Anime_ID)\n",
    "plt.figure(1)\n",
    "for i in range(len(V1)):\n",
    "    plt.plot(V1[i],V2[i],'o',label=Anime_names[i])\n",
    "plt.xlabel('component 1')\n",
    "plt.ylabel('component 2')\n",
    "plt.xlim(min(V1_all),max(V1_all))\n",
    "plt.ylim(min(V2_all),max(V2_all))\n",
    "plt.title('10 random movies, Anime')\n",
    "#plt.legend()\n",
    "\n",
    "#Plot Sci-Fi movies\n",
    "V1,V2 = project_movies_2D(V_surprise, Scifi_ID)\n",
    "plt.figure(2)\n",
    "for i in range(len(V1)):\n",
    "    plt.plot(V1[i],V2[i],'o',label=Scifi_names[i])\n",
    "plt.xlabel('component 1')\n",
    "plt.ylabel('component 2')\n",
    "plt.xlim(min(V1_all),max(V1_all))\n",
    "plt.ylim(min(V2_all),max(V2_all))\n",
    "plt.title('10 random movies, Scifi')\n",
    "#plt.legend()\n",
    "\n",
    "#Plot Romance movies\n",
    "V1,V2 = project_movies_2D(V_surprise, Romance_ID)\n",
    "plt.figure(3)\n",
    "for i in range(len(V1)):\n",
    "    plt.plot(V1[i],V2[i],'o',label=Romance_names[i])\n",
    "plt.xlabel('component 1')\n",
    "plt.ylabel('component 2')\n",
    "plt.xlim(min(V1_all),max(V1_all))\n",
    "plt.ylim(min(V2_all),max(V2_all))\n",
    "plt.title('10 random movies, Romance')\n",
    "#plt.legend()\n",
    "\n",
    "plt.show()\n"
   ]
  },
  {
   "cell_type": "code",
   "execution_count": 22,
   "metadata": {},
   "outputs": [
    {
     "data": {
      "image/png": "[encoded data removed]",
      "text/plain": [
       "<Figure size 432x288 with 1 Axes>"
      ]
     },
     "metadata": {
      "needs_background": "light"
     },
     "output_type": "display_data"
    }
   ],
   "source": [
    "#Make extra plot with all genres on one plot\n",
    "\n",
    "V11,V21 = project_movies_2D(V_surprise, Anime_ID)\n",
    "V12,V22 = project_movies_2D(V_surprise, Scifi_ID)\n",
    "V13,V23 = project_movies_2D(V_surprise, Romance_ID)\n",
    "\n",
    "\n",
    "plt.figure(1)\n",
    "plt.plot(V11,V21,'o',label='Animation')\n",
    "plt.plot(V12,V22,'o',label='Sci-Fi')\n",
    "plt.plot(V13,V23,'o',label='Romance')\n",
    "plt.legend(loc='best')\n",
    "plt.xlabel('Component1')\n",
    "plt.ylabel('Component2')\n",
    "plt.title('Three genres compared')\n",
    "plt.xlim(min(V1_all),max(V1_all))\n",
    "plt.ylim(min(V2_all),max(V2_all))\n",
    "\n",
    "plt.show()"
   ]
  },
  {
   "cell_type": "code",
   "execution_count": 1,
   "metadata": {},
   "outputs": [],
   "source": [
    "import numpy as np"
   ]
  },
  {
   "cell_type": "code",
   "execution_count": 11,
   "metadata": {},
   "outputs": [
    {
     "ename": "TypeError",
     "evalue": "__init__() takes at most 1 positional argument (2 given)",
     "output_type": "error",
     "traceback": [
      "\u001b[0;31m---------------------------------------------------------------------------\u001b[0m",
      "\u001b[0;31mTypeError\u001b[0m                                 Traceback (most recent call last)",
      "\u001b[0;32m<ipython-input-11-da3a139f8a44>\u001b[0m in \u001b[0;36m<module>\u001b[0;34m\u001b[0m\n\u001b[0;32m----> 1\u001b[0;31m \u001b[0mx\u001b[0m \u001b[0;34m=\u001b[0m \u001b[0mnp\u001b[0m\u001b[0;34m.\u001b[0m\u001b[0mrandom\u001b[0m\u001b[0;34m.\u001b[0m\u001b[0mRandomState\u001b[0m\u001b[0;34m(\u001b[0m\u001b[0;34m-\u001b[0m\u001b[0;36m0.5\u001b[0m\u001b[0;34m,\u001b[0m\u001b[0;36m0.5\u001b[0m\u001b[0;34m)\u001b[0m\u001b[0;34m\u001b[0m\u001b[0;34m\u001b[0m\u001b[0m\n\u001b[0m",
      "\u001b[0;32mmtrand.pyx\u001b[0m in \u001b[0;36mmtrand.RandomState.__init__\u001b[0;34m()\u001b[0m\n",
      "\u001b[0;31mTypeError\u001b[0m: __init__() takes at most 1 positional argument (2 given)"
     ]
    }
   ],
   "source": [
    "x = np.random.RandomState(-0.5,0.5)"
   ]
  },
  {
   "cell_type": "code",
   "execution_count": 10,
   "metadata": {},
   "outputs": [
    {
     "data": {
      "text/plain": [
       "mtrand.RandomState"
      ]
     },
     "execution_count": 10,
     "metadata": {},
     "output_type": "execute_result"
    }
   ],
   "source": [
    "type(x)"
   ]
  },
  {
   "cell_type": "code",
   "execution_count": null,
   "metadata": {},
   "outputs": [],
   "source": []
  }
 ],
 "metadata": {
  "kernelspec": {
   "display_name": "Python 3",
   "language": "python",
   "name": "python3"
  },
  "language_info": {
   "codemirror_mode": {
    "name": "ipython",
    "version": 3
   },
   "file_extension": ".py",
   "mimetype": "text/x-python",
   "name": "python",
   "nbconvert_exporter": "python",
   "pygments_lexer": "ipython3",
   "version": "3.6.8"
  }
 },
 "nbformat": 4,
 "nbformat_minor": 2
}
