{
 "cells": [
  {
   "cell_type": "code",
   "execution_count": 1,
   "metadata": {},
   "outputs": [],
   "source": [
    "#Import modules\n",
    "import numpy as np\n",
    "from surprise import SVD\n",
    "from surprise.model_selection import cross_validate\n",
    "from surprise import Dataset\n",
    "import pandas as pd\n",
    "from surprise import Reader\n",
    "from surprise.model_selection.split import PredefinedKFold\n",
    "from surprise import accuracy\n",
    "from surprise.prediction_algorithms.knns import KNNBasic\n",
    "import numpy as np\n",
    "import matplotlib.pyplot as plt"
   ]
  },
  {
   "cell_type": "code",
   "execution_count": 2,
   "metadata": {},
   "outputs": [],
   "source": [
    "#Load Data\n",
    "folds_files = [('train.txt','test.txt')]\n",
    "reader = Reader(line_format='user item rating', sep='\\t', skip_lines=None, rating_scale=(1, 5))\n",
    "data = Dataset.load_from_folds(folds_files,reader=reader)\n",
    "pkf = PredefinedKFold()\n",
    "trainset, testset = next(pkf.split(data))"
   ]
  },
  {
   "cell_type": "code",
   "execution_count": 7,
   "metadata": {
    "scrolled": true
   },
   "outputs": [
    {
     "name": "stdout",
     "output_type": "stream",
     "text": [
      "RMSE: 0.9143\n",
      "RMSE: 0.9458\n"
     ]
    },
    {
     "data": {
      "text/plain": [
       "0.9458012314497669"
      ]
     },
     "execution_count": 7,
     "metadata": {},
     "output_type": "execute_result"
    }
   ],
   "source": [
    "#Set params\n",
    "k=20\n",
    "epochs = 30\n",
    "lambdas = 0.1\n",
    "eta = 0.03\n",
    "algo = SVD(n_factors=k,n_epochs=epochs,reg_all=0.1,lr_all=eta)\n",
    "algo.fit(trainset)\n",
    "predictions = algo.test(testset)\n",
    "accuracy.rmse(predictions,verbose=True)\n",
    "\n",
    "#Set params\n",
    "k=20\n",
    "epochs = 30\n",
    "lambdas = 0.1\n",
    "algo = SVD(n_factors=k,n_epochs=epochs,biased=False,reg_all=0.1,lr_all=eta)\n",
    "algo.fit(trainset)\n",
    "predictions = algo.test(testset)\n",
    "accuracy.rmse(predictions,verbose=True)\n",
    "\n",
    "algo.fit()\n"
   ]
  },
  {
   "cell_type": "code",
   "execution_count": 2,
   "metadata": {},
   "outputs": [],
   "source": [
    "#Load Data\n",
    "reader = Reader(line_format='user item rating', sep='\\t', skip_lines=None, rating_scale=(1, 5))\n",
    "data = Dataset.load_from_file('data.txt',reader=reader)\n",
    "trainset = data.build_full_trainset()\n",
    "#Set params\n",
    "k=20\n",
    "epochs = 30\n",
    "lambdas = 0.1\n",
    "eta = 0.03\n",
    "#fit movie lens data set\n",
    "algo = SVD(n_factors=k,n_epochs=epochs,biased=False,reg_all=0.1,lr_all=eta)\n",
    "algo.fit(trainset)\n",
    "#Get V and U\n",
    "V_surprise = algo.qi\n",
    "U_surprise = algo.pu"
   ]
  },
  {
   "cell_type": "code",
   "execution_count": 6,
   "metadata": {},
   "outputs": [],
   "source": [
    "#!/usr/bin/env python3\n",
    "# -*- coding: utf-8 -*-\n",
    "\"\"\"\n",
    "Created on Thu Feb 21 16:05:07 2019\n",
    "\n",
    "Code to answer Part 4: Basic Visualizations\n",
    "\n",
    "@author: evascheller\n",
    "\"\"\"\n",
    "import numpy as np\n",
    "import matplotlib.pyplot as plt\n",
    "\n",
    "#Problem 1\n",
    "data = np.loadtxt('data.txt',delimiter='\\t')\n",
    "MovieNames = np.genfromtxt('movies.txt',delimiter='\\t',dtype=None,encoding='ISO-8859-1',usecols=(1,))\n",
    "\n",
    "User_ID = data[:,0]\n",
    "Movie_ID = data[:,1]\n",
    "Rating = data[:,2]\n",
    "\n",
    "labels, counts = np.unique(Rating, return_counts=True)\n",
    "\n",
    "#Problem 2\n",
    "Movie_ID_number, counts_Movie_ID = np.unique(Movie_ID, return_counts=True)\n",
    "counts_Movie_ID, Movie_ID_number = zip(*sorted(zip(counts_Movie_ID,Movie_ID_number)))\n",
    "Most_popular_movie_ID = Movie_ID_number[len(Movie_ID_number)-11:len(Movie_ID_number)-1]\n",
    "Most_popular_movie_counts = counts_Movie_ID[len(counts_Movie_ID)-11:len(counts_Movie_ID)-1]\n",
    "Most_popular_movie_name = []\n",
    "for ID in Most_popular_movie_ID:\n",
    "    Most_popular_movie_name.append(MovieNames[int(ID)-1])\n",
    "\n",
    "#Problem 3\n",
    "Average_rating = []\n",
    "for ID in Movie_ID_number:\n",
    "    summing = 0\n",
    "    division = 0\n",
    "    for i in range(len(Movie_ID)):\n",
    "        if Movie_ID[i] == ID:\n",
    "            summing += Rating[i]\n",
    "            division += 1\n",
    "    Average_rating.append(summing/division)\n",
    "        \n",
    "Average_rating, Movie_ID_number = zip(*sorted(zip(Average_rating,Movie_ID_number)))\n",
    "\n",
    "Best_movie_ID = Movie_ID_number[len(Movie_ID_number)-11:len(Movie_ID_number)-1]\n",
    "Best_movie_rating = Average_rating[len(Average_rating)-11:len(Average_rating)-1]\n",
    "Best_movie_name = []\n",
    "for ID in Best_movie_ID:\n",
    "    Best_movie_name.append(MovieNames[int(ID)-1])\n",
    "\n",
    "Average_rating_of_popular_movies = []\n",
    "\n",
    "for ID in Most_popular_movie_ID:\n",
    "    for index in range(len(Movie_ID_number)):\n",
    "        if Movie_ID_number[index] == ID:\n",
    "           Average_rating_of_popular_movies.append(Average_rating[index])\n",
    "        "
   ]
  },
  {
   "cell_type": "code",
   "execution_count": 6,
   "metadata": {},
   "outputs": [],
   "source": [
    "#Plot random 10 movies\n",
    "\n",
    "Movie_ID = np.array([127,187,64,172,181,50,59,60,61,89])\n",
    "Movie_name = ['Godfather Part I','Godfather: Part II','Shawshank Redemption','Empire Strikes Back','Return of the Jedi','Star Wars','Three Colors: Red','Three Colors:Blue','Three Colors: White','Blade Runner']\n",
    "\n"
   ]
  },
  {
   "cell_type": "code",
   "execution_count": 9,
   "metadata": {},
   "outputs": [
    {
     "data": {
      "image/png": "[encoded data removed]",
      "text/plain": [
       "<Figure size 432x288 with 1 Axes>"
      ]
     },
     "metadata": {
      "needs_background": "light"
     },
     "output_type": "display_data"
    }
   ],
   "source": [
    "def project_movies_2D(V, movie_IDs):\n",
    "    V_T = np.transpose(V)\n",
    "    A_v, sigma_v, B_v = np.linalg.svd(V_T)\n",
    "\n",
    "    # 2D projection of U and V\n",
    "    # U_proj = np.matmul(A_u[:,0:2], U)\n",
    "    V_proj = np.matmul(np.transpose(A_v[:, 0:2]), V_T)\n",
    "\n",
    "    # take only the columns corresponding to movie ids. \n",
    "    # movie ids are 1 indexed, so subtract by 1. \n",
    "    movie_IDs -= 1\n",
    "    V_proj_specific = V_proj[:, movie_IDs]\n",
    "\n",
    "    return (V_proj_specific[0], V_proj_specific[1])\n",
    "\n",
    "\n",
    "#Ten random movies \n",
    "V1,V2 = project_movies_2D(V_surprise, Movie_ID)\n",
    "\n",
    "plt.figure(1)\n",
    "for i in range(len(V1)):\n",
    "    plt.plot(V1[i],V2[i],'o',label=Movie_name[i])\n",
    "plt.legend(loc='')\n",
    "\n",
    "plt.show()"
   ]
  },
  {
   "cell_type": "code",
   "execution_count": null,
   "metadata": {},
   "outputs": [],
   "source": []
  }
 ],
 "metadata": {
  "kernelspec": {
   "display_name": "Python 3",
   "language": "python",
   "name": "python3"
  },
  "language_info": {
   "codemirror_mode": {
    "name": "ipython",
    "version": 3
   },
   "file_extension": ".py",
   "mimetype": "text/x-python",
   "name": "python",
   "nbconvert_exporter": "python",
   "pygments_lexer": "ipython3",
   "version": "3.6.5"
  }
 },
 "nbformat": 4,
 "nbformat_minor": 2
}
