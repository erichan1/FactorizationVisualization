{
 "cells": [
  {
   "cell_type": "code",
   "execution_count": 1,
   "metadata": {},
   "outputs": [],
   "source": [
    "#Import modules\n",
    "import numpy as np\n",
    "from surprise import SVD\n",
    "from surprise.model_selection import cross_validate\n",
    "from surprise import Dataset\n",
    "import pandas as pd\n",
    "from surprise import Reader\n",
    "from surprise.model_selection.split import PredefinedKFold\n",
    "from surprise import accuracy\n",
    "from surprise.prediction_algorithms.knns import KNNBasic"
   ]
  },
  {
   "cell_type": "code",
   "execution_count": 2,
   "metadata": {},
   "outputs": [],
   "source": [
    "#Load Data\n",
    "folds_files = [('train.txt','test.txt')]\n",
    "reader = Reader(line_format='user item rating', sep='\\t', skip_lines=None, rating_scale=(1, 5))\n",
    "data = Dataset.load_from_folds(folds_files,reader=reader)\n",
    "pkf = PredefinedKFold()\n",
    "trainset, testset = next(pkf.split(data))"
   ]
  },
  {
   "cell_type": "code",
   "execution_count": 7,
   "metadata": {
    "scrolled": true
   },
   "outputs": [
    {
     "name": "stdout",
     "output_type": "stream",
     "text": [
      "RMSE: 0.9143\n",
      "RMSE: 0.9458\n"
     ]
    },
    {
     "data": {
      "text/plain": [
       "0.9458012314497669"
      ]
     },
     "execution_count": 7,
     "metadata": {},
     "output_type": "execute_result"
    }
   ],
   "source": [
    "#Set params\n",
    "k=20\n",
    "epochs = 30\n",
    "lambdas = 0.1\n",
    "eta = 0.03\n",
    "algo = SVD(n_factors=k,n_epochs=epochs,reg_all=0.1,lr_all=eta)\n",
    "algo.fit(trainset)\n",
    "predictions = algo.test(testset)\n",
    "accuracy.rmse(predictions,verbose=True)\n",
    "\n",
    "#Set params\n",
    "k=20\n",
    "epochs = 30\n",
    "lambdas = 0.1\n",
    "algo = SVD(n_factors=k,n_epochs=epochs,biased=False,reg_all=0.1,lr_all=eta)\n",
    "algo.fit(trainset)\n",
    "predictions = algo.test(testset)\n",
    "accuracy.rmse(predictions,verbose=True)\n",
    "\n",
    "algo.fit()\n"
   ]
  },
  {
   "cell_type": "code",
   "execution_count": 5,
   "metadata": {},
   "outputs": [],
   "source": [
    "#Load Data\n",
    "k=20\n",
    "epochs = 30\n",
    "lambdas = 0.1\n",
    "eta = 0.03\n",
    "data = Dataset.load_from_file('data.txt',reader=reader)\n",
    "trainset = data.build_full_trainset()\n",
    "algo = SVD(n_factors=k,n_epochs=epochs,biased=False,reg_all=0.1,lr_all=eta)\n",
    "algo.fit(trainset)\n",
    "V_surprise = algo.qi\n",
    "U_surprise = algo.pu"
   ]
  },
  {
   "cell_type": "code",
   "execution_count": null,
   "metadata": {},
   "outputs": [],
   "source": []
  }
 ],
 "metadata": {
  "kernelspec": {
   "display_name": "Python 3",
   "language": "python",
   "name": "python3"
  },
  "language_info": {
   "codemirror_mode": {
    "name": "ipython",
    "version": 3
   },
   "file_extension": ".py",
   "mimetype": "text/x-python",
   "name": "python",
   "nbconvert_exporter": "python",
   "pygments_lexer": "ipython3",
   "version": "3.6.8"
  }
 },
 "nbformat": 4,
 "nbformat_minor": 2
}
