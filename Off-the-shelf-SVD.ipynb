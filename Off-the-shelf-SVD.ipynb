{
 "cells": [
  {
   "cell_type": "code",
   "execution_count": 59,
   "metadata": {},
   "outputs": [],
   "source": [
    "#Import modules\n",
    "import numpy as np\n",
    "from surprise import SVD\n",
    "from surprise.model_selection import cross_validate\n",
    "from surprise import Dataset\n",
    "import pandas as pd\n",
    "from surprise import Reader\n",
    "from surprise.model_selection.split import PredefinedKFold\n",
    "from surprise import accuracy"
   ]
  },
  {
   "cell_type": "code",
   "execution_count": 57,
   "metadata": {},
   "outputs": [],
   "source": [
    "#Load Data\n",
    "folds_files = [('train.txt','test.txt')]\n",
    "reader = Reader(line_format='user item rating', sep='\\t', skip_lines=None, rating_scale=(1, 5))\n",
    "data = Dataset.load_from_folds(folds_files,reader=reader)\n",
    "pkf = PredefinedKFold()\n",
    "trainset, testset = next(pkf.split(data))"
   ]
  },
  {
   "cell_type": "code",
   "execution_count": 60,
   "metadata": {
    "scrolled": true
   },
   "outputs": [
    {
     "name": "stdout",
     "output_type": "stream",
     "text": [
      "RMSE: 0.9848\n"
     ]
    },
    {
     "data": {
      "text/plain": [
       "0.9848035463818261"
      ]
     },
     "execution_count": 60,
     "metadata": {},
     "output_type": "execute_result"
    }
   ],
   "source": [
    "#Set params\n",
    "k=20\n",
    "epochs = 100\n",
    "algo = SVD(n_factors=k,n_epochs=epochs)\n",
    "algo.fit(trainset)\n",
    "predictions = algo.test(testset)\n",
    "accuracy.rmse(predictions,verbose=True)"
   ]
  },
  {
   "cell_type": "code",
   "execution_count": null,
   "metadata": {},
   "outputs": [],
   "source": []
  }
 ],
 "metadata": {
  "kernelspec": {
   "display_name": "Python 3",
   "language": "python",
   "name": "python3"
  },
  "language_info": {
   "codemirror_mode": {
    "name": "ipython",
    "version": 3
   },
   "file_extension": ".py",
   "mimetype": "text/x-python",
   "name": "python",
   "nbconvert_exporter": "python",
   "pygments_lexer": "ipython3",
   "version": "3.6.8"
  }
 },
 "nbformat": 4,
 "nbformat_minor": 2
}
